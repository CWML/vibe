{
 "cells": [
  {
   "cell_type": "markdown",
   "id": "927ac490",
   "metadata": {},
   "source": [
    "# AI-Powered Coding Tools for Biomedical Research\n",
    "## Using VSCode, GitHub Copilot, and MCP Servers\n",
    "\n",
    "**Duration:** 1.5 hours  \n",
    "**Goal:** Learn \"vibe coding\" with AI tools to accelerate biomedical research workflows\n",
    "\n",
    "---"
   ]
  },
  {
   "cell_type": "markdown",
   "id": "7d8e3f63",
   "metadata": {},
   "source": [
    "# Part 1: Welcome & What is \"Vibe Coding\"? (15 minutes)\n",
    "\n",
    "## Why These AI Tools Matter for Medical Research\n",
    "\n",
    "### The Problem\n",
    "- Researchers can spend too much time fighting with code syntax\n",
    "- Data analysis workflows are often not reproducible\n",
    "- Learning new programming techniques is time-consuming\n",
    "- Focus shifts from science to debugging\n",
    "- Commercial user-friendly tools often have high licensing costs, while Python offers powerful capabilities for free but requires greater technical investment upfront.\n",
    "\n",
    "### The Solution: AI-Assisted \"Vibe Coding\"\n",
    "- Focus on **what** you want to analyze, let AI handle **how**\n",
    "- Intuitive, exploratory approach to data science\n",
    "- Rapid prototyping and iteration\n",
    "- More time for scientific insights, less time on syntax\n",
    "- **Transparent by design**: While AI itself may be a \"black box,\" the code it generates is completely visible and verifiable\n",
    "- You can inspect, modify, and understand every line of AI-suggested code\n",
    "- Unlike proprietary statistical software, you maintain full control and transparency of your analysis"
   ]
  },
  {
   "cell_type": "markdown",
   "id": "e293a563",
   "metadata": {},
   "source": [
    "## What is \"Vibe Coding\"?\n",
    "\n",
    "**\"Vibe coding\"** is a term coined by **Andrej Karpathy**, co-founder of OpenAI and former head of AI at Tesla. He introduced it in a post on X in February 2025, describing it as:\n",
    "\n",
    "> *\"There's a new kind of coding I call 'vibe coding', where you fully give in to the vibes, embrace exponentials, and forget that the code even exists...I'm building a project or webapp, but it's not really coding - I just see stuff, say stuff, run stuff, and copy paste stuff, and it mostly works.\"* — [Andrej Karpathy](https://x.com/karpathy/status/1886192184808149383)\n",
    "\n",
    "### Traditional Coding Approach:\n",
    "- Plan everything in detail\n",
    "- Research exact syntax and functions\n",
    "- Write code step-by-step\n",
    "- Debug issues manually\n",
    "- Test and refine\n",
    "\n",
    "### Vibe Coding Approach:\n",
    "- **Start with your research question**\n",
    "- **Describe what you want** in natural language\n",
    "- **Let AI suggest the implementation**\n",
    "- **Iterate quickly** with AI assistance\n",
    "- **Focus on interpretation** and scientific insights\n",
    "\n",
    "### Why It Works for Research:\n",
    "- **Reduces syntax barriers**: Focus on research questions instead of wrestling with pandas syntax or matplotlib parameters\n",
    "- **Accelerates exploration**: Test multiple analytical approaches quickly without getting stuck on implementation details  \n",
    "- **Builds understanding**: AI provides explanations and context, helping researchers learn while they analyze\n",
    "- **Handles complexity**: Generate sophisticated visualizations and statistical tests without memorizing every parameter"
   ]
  },
  {
   "cell_type": "markdown",
   "id": "78366036",
   "metadata": {},
   "source": [
    "## Today's Tools for Vibe Coding\n",
    "\n",
    "### 🔧 **Visual Studio Code (VSCode)**\n",
    "- Free, powerful editor with excellent Python support\n",
    "- Rich extension ecosystem for data science\n",
    "- Integrated terminal, debugging, and version control\n",
    "\n",
    "### 🤖 **GitHub Copilot** \n",
    "- AI that suggests code as you type\n",
    "- Understands scientific and medical terminology\n",
    "- Chat interface for explaining and debugging code\n",
    "\n",
    "### 🧠 **MCP Server**\n",
    "- \"Sequential thinking\" for complex problems\n",
    "- Breaks down analysis into logical steps\n",
    "- Enhanced reasoning capabilities"
   ]
  },
  {
   "cell_type": "markdown",
   "id": "65dcae46",
   "metadata": {},
   "source": [
    "## Setup Verification (Quick Check)\n",
    "\n",
    "Let's verify everyone has the essential tools working:"
   ]
  },
  {
   "cell_type": "markdown",
   "id": "9130baf0",
   "metadata": {},
   "source": [
    "## Selecting the Right Kernel for Your Jupyter Notebook\n"
   ]
  },
  {
   "cell_type": "markdown",
   "id": "b4e28603",
   "metadata": {},
   "source": [
    "Before proceeding with our data analysis, it's crucial to ensure your Jupyter notebook is connected to the appropriate **Python kernel**. The kernel is the computational engine that executes the code in your notebook cells.\n",
    "\n",
    "### What is a Jupyter Kernel?\n",
    "\n",
    "A **kernel** is a separate process that runs your code and returns the results to the notebook interface. Each kernel corresponds to a specific Python environment with its own installed packages and Python version.\n",
    "\n",
    "### Why Kernel Selection Matters\n",
    "\n",
    "- **Package Availability**: Different environments have different installed packages\n",
    "- **Version Compatibility**: Python versions and package versions can affect code behavior  \n",
    "- **Environment Isolation**: Keeps project dependencies separated and organized\n",
    "- **Reproducibility**: Ensures your analysis runs consistently across different sessions\n",
    "\n",
    "### How to Select/Change Your Kernel in VS Code:\n",
    "\n",
    "#### Method 1: Kernel Picker (Recommended)\n",
    "1. **Look at the top-right corner** of your notebook - you'll see the current kernel name\n",
    "2. **Click on the kernel name** (e.g., \"Python 3.11.5\", \"base (Python 3.9)\", etc.)\n",
    "3. **Select from available options**:\n",
    "   - **Python environments** (conda environments, virtual environments)\n",
    "   - **System Python** installations\n",
    "   - **Jupyter server** connections\n",
    "\n",
    "#### Method 2: Command Palette\n",
    "1. **Open Command Palette**: `Ctrl+Shift+P` (Windows/Linux) or `Cmd+Shift+P` (Mac)\n",
    "2. **Type**: `Notebook: Select Kernel`\n",
    "3. **Choose** your preferred Python environment\n",
    "\n",
    "#### Method 3: Status Bar\n",
    "1. **Look at the bottom status bar** when a notebook is open\n",
    "2. **Click the kernel information** displayed there\n",
    "3. **Select** from the dropdown menu\n",
    "\n",
    "### Recommended Kernel Setup for This Workshop:\n",
    "\n",
    "For optimal experience with this biomedical research workshop, ensure your selected kernel has:\n",
    "\n",
    "✅ **Python 3.8+** (preferably 3.9-3.11)  \n",
    "✅ **Essential packages**: `pandas`, `numpy`, `matplotlib`, `seaborn`, `scipy`  \n",
    "✅ **Jupyter support**: `jupyter`, `ipykernel`  \n",
    "\n",
    "### Troubleshooting Kernel Issues:\n",
    "\n",
    "#### Problem: \"Kernel not found\" or empty kernel list\n",
    "**Solution**: Install `ipykernel` in your Python environment:\n",
    "```bash\n",
    "pip install ipykernel\n",
    "python -m ipykernel install --user --name=myenv\n",
    "```\n",
    "\n",
    "#### Problem: Packages not available in kernel  \n",
    "**Solution**: Install packages in the correct environment:\n",
    "```bash\n",
    "# If using conda\n",
    "conda activate myenv\n",
    "conda install pandas numpy matplotlib seaborn scipy\n",
    "\n",
    "# If using pip\n",
    "pip install pandas numpy matplotlib seaborn scipy\n",
    "```\n",
    "\n",
    "#### Problem: Kernel keeps dying/restarting\n",
    "**Solution**: \n",
    "- Check for conflicting package versions\n",
    "- Restart VS Code\n",
    "- Try a different kernel\n",
    "- Check available system memory\n",
    "\n",
    "### Quick Kernel Health Check:\n",
    "\n",
    "Once you've selected your kernel, run the package installation cell below to verify everything is working correctly. The cell will automatically install any missing packages in your selected environment.\n",
    "\n",
    "---\n",
    "\n",
    "**Pro Tip**: Create dedicated conda environments for different research projects to maintain clean, reproducible analysis environments!"
   ]
  },
  {
   "cell_type": "markdown",
   "id": "3cfa9700",
   "metadata": {},
   "source": [
    "**We need to install the Python and Jupyter extensions in VS Code**\n",
    "- **\n",
    "NOTE** This will most likely auto install when you select your Kernel so these steps can be skipped.\n",
    "\n",
    "### Required VS Code Extensions:\n",
    "\n",
    "1. **Python Extension**\n",
    "    - [Python - Visual Studio Marketplace](https://marketplace.visualstudio.com/items?itemName=ms-python.python)\n",
    "    - Provides Python language support, debugging, and IntelliSense\n",
    "\n",
    "2. **Jupyter Extension**\n",
    "    - [Jupyter - Visual Studio Marketplace](https://marketplace.visualstudio.com/items?itemName=ms-toolsai.jupyter)\n",
    "    - Enables Jupyter notebook support directly in VS Code\n",
    "\n",
    "These extensions enable the full Python data science workflow within VS Code, including running Jupyter notebooks like this one."
   ]
  },
  {
   "cell_type": "markdown",
   "id": "6a3c284a",
   "metadata": {},
   "source": [
    "The code below will install all the packages we need into your current python environment."
   ]
  },
  {
   "cell_type": "code",
   "execution_count": 14,
   "id": "9e22c725",
   "metadata": {},
   "outputs": [
    {
     "name": "stdout",
     "output_type": "stream",
     "text": [
      "🔧 Installing required packages for the workshop...\n",
      "This ensures all dependencies are available in your selected Python environment.\n",
      "\n",
      "✅ pandas is already installed\n",
      "✅ numpy is already installed\n",
      "✅ matplotlib is already installed\n",
      "✅ seaborn is already installed\n",
      "✅ scipy is already installed\n",
      "\n",
      "🎉 Package installation complete!\n",
      "Now let's test the imports in the next cell...\n"
     ]
    }
   ],
   "source": [
    "# Install required packages (run this if any packages are missing)\n",
    "# Note: This may take a few minutes on first run\n",
    "\n",
    "import sys\n",
    "import subprocess\n",
    "\n",
    "def install_package(package):\n",
    "    \"\"\"Install a package using pip\"\"\"\n",
    "    try:\n",
    "        subprocess.check_call([sys.executable, \"-m\", \"pip\", \"install\", package])\n",
    "        print(f\"✅ {package} installed successfully\")\n",
    "    except subprocess.CalledProcessError:\n",
    "        print(f\"❌ Failed to install {package}\")\n",
    "\n",
    "# List of required packages\n",
    "required_packages = [\n",
    "    \"pandas\",\n",
    "    \"numpy\", \n",
    "    \"matplotlib\",\n",
    "    \"seaborn\",\n",
    "    \"scipy\"\n",
    "]\n",
    "\n",
    "print(\"🔧 Installing required packages for the workshop...\")\n",
    "print(\"This ensures all dependencies are available in your selected Python environment.\")\n",
    "print()\n",
    "\n",
    "for package in required_packages:\n",
    "    try:\n",
    "        __import__(package)\n",
    "        print(f\"✅ {package} is already installed\")\n",
    "    except ImportError:\n",
    "        print(f\"📦 Installing {package}...\")\n",
    "        install_package(package)\n",
    "\n",
    "print(\"\\n🎉 Package installation complete!\")\n",
    "print(\"Now let's test the imports in the next cell...\")"
   ]
  },
  {
   "cell_type": "code",
   "execution_count": 15,
   "id": "d34aafe0",
   "metadata": {},
   "outputs": [
    {
     "name": "stdout",
     "output_type": "stream",
     "text": [
      "✅ All essential packages imported successfully!\n",
      "Python packages ready: pandas 2.3.1, numpy 2.2.5\n"
     ]
    }
   ],
   "source": [
    "# Test 1: Basic Python and packages\n",
    "import pandas as pd\n",
    "import numpy as np\n",
    "import matplotlib.pyplot as plt\n",
    "import seaborn as sns\n",
    "from scipy import stats\n",
    "\n",
    "print(\"✅ All essential packages imported successfully!\")\n",
    "print(f\"Python packages ready: pandas {pd.__version__}, numpy {np.__version__}\")"
   ]
  },
  {
   "cell_type": "code",
   "execution_count": 16,
   "id": "240aab6e",
   "metadata": {},
   "outputs": [
    {
     "name": "stdout",
     "output_type": "stream",
     "text": [
      "If you saw AI suggestions above, GitHub Copilot is working! 🎉\n"
     ]
    }
   ],
   "source": [
    "# Test 2: GitHub Copilot Check\n",
    "# DEMO: Type the following line and watch for AI suggestions:\n",
    "# def fibonacci(\n",
    "# If you see gray text suggestions appearing, Copilot is working!\n",
    "\n",
    "print(\"If you saw AI suggestions above, GitHub Copilot is working! 🎉\")"
   ]
  },
  {
   "cell_type": "markdown",
   "id": "9be02841",
   "metadata": {},
   "source": [
    "---\n",
    "\n",
    "# Part 2: VSCode + Copilot Fundamentals (20 minutes)\n",
    "\n",
    "## Four Ways AI Will Help Us Code Today:\n",
    "\n",
    "1. **Code Completion** - AI suggests code as you type\n",
    "2. **Copilot Chat** - Conversational assistance and explanations\n",
    "3. **Copilot Agent** - Use the agent to write/edit code from natural language\n",
    "4. **Interactive Debugging** - Collaborative problem-solving"
   ]
  },
  {
   "cell_type": "markdown",
   "id": "abe3364f",
   "metadata": {},
   "source": [
    "## Demo 1: Code Completion in Action\n",
    "\n",
    "Watch how GitHub Copilot suggests code as we type. We'll start with a simple example, then move to research-relevant code.\n",
    "\n",
    "**NOTE**\n",
    "- Clear code blocks of content and then use # for python comments to start 'vibe coding'."
   ]
  },
  {
   "cell_type": "markdown",
   "id": "db879bb1",
   "metadata": {},
   "source": [
    "Add this comment below to see what copilot suggests(use tab to accept suggestions and move down the code):\n",
    "\n",
    "#Write a Python function fibonacci(n) that returns the first n Fibonacci numbers and validates input."
   ]
  },
  {
   "cell_type": "code",
   "execution_count": null,
   "id": "5bc2464d",
   "metadata": {},
   "outputs": [
    {
     "name": "stdout",
     "output_type": "stream",
     "text": [
      "First 10 Fibonacci numbers: [0, 1, 1, 2, 3, 5, 8, 13, 21, 34]\n"
     ]
    }
   ],
   "source": [
    "# Write a Python function fibonacci(n) that returns the first n Fibonacci numbers and validates input.\n",
    "\n",
    "def fibonacci(n):\n",
    "    \"\"\"Generate fibonacci sequence up to n terms\"\"\"\n",
    "    if not isinstance(n, int) or n <= 0:\n",
    "        return []\n",
    "    if n == 1:\n",
    "        return [0]\n",
    "    if n == 2:\n",
    "        return [0, 1]\n",
    "\n",
    "    fib_sequence = [0, 1]\n",
    "    for i in range(2, n):\n",
    "        fib_sequence.append(fib_sequence[i-1] + fib_sequence[i-2])\n",
    "\n",
    "    return fib_sequence\n",
    "\n",
    "# Test it\n",
    "result = fibonacci(10)\n",
    "print(f\"First 10 Fibonacci numbers: {result}\")"
   ]
  },
  {
   "cell_type": "markdown",
   "id": "27e5efe9",
   "metadata": {},
   "source": [
    "Exploring seaborn datasets, write code to find a list of datasets in seaborn."
   ]
  },
  {
   "cell_type": "code",
   "execution_count": 7,
   "id": "4c62d369",
   "metadata": {},
   "outputs": [
    {
     "name": "stdout",
     "output_type": "stream",
     "text": [
      "['anagrams', 'anscombe', 'attention', 'brain_networks', 'car_crashes', 'diamonds', 'dots', 'dowjones', 'exercise', 'flights', 'fmri', 'geyser', 'glue', 'healthexp', 'iris', 'mpg', 'penguins', 'planets', 'seaice', 'taxis', 'tips', 'titanic']\n"
     ]
    }
   ],
   "source": [
    "# Exploring seaborn datasets, write code to find a list of datasets in seaborn\n",
    "def list_seaborn_datasets():\n",
    "    \"\"\"List available datasets in seaborn\"\"\"\n",
    "    return sns.get_dataset_names()\n",
    "# Example usage\n",
    "datasets = list_seaborn_datasets()\n",
    "print(datasets)"
   ]
  },
  {
   "cell_type": "markdown",
   "id": "66402ddd",
   "metadata": {},
   "source": [
    "Pick a dataset and explore it.\n",
    "- 'write basic data exploration code for the brain_networks dataset'\n",
    "- After our code is available, use right click>copilot>fix with the code highlighted"
   ]
  },
  {
   "cell_type": "code",
   "execution_count": null,
   "id": "aa195fc9",
   "metadata": {},
   "outputs": [],
   "source": [
    "# write basic data exploration code for the brain_networks dataset\n",
    "def explore_brain_networks():\n",
    "    \"\"\"Explore the brain_networks dataset\"\"\"\n",
    "    # Load the dataset\n",
    "    brain_networks = sns.load_dataset(\"brain_networks\")\n",
    "    \n",
    "    print(\"🧠 Brain Networks Dataset Exploration\")\n",
    "    print(\"=\"*40)\n",
    "    \n",
    "    # Show basic dataset information\n",
    "    print(f\"Dataset shape: {brain_networks.shape}\")\n",
    "    print(f\"Columns: {list(brain_networks.columns)}\")\n",
    "    print()\n",
    "    \n",
    "    # Show data types and missing values\n",
    "    print(\"📊 Data Info:\")\n",
    "    brain_networks.info()\n",
    "    print()\n",
    "    \n",
    "    # Show summary statistics\n",
    "    print(\"📈 Summary Statistics:\")\n",
    "    print(brain_networks.describe())\n",
    "    print()\n",
    "    \n",
    "    # Show the first few rows\n",
    "    print(\"👀 First 5 rows:\")\n",
    "    print(brain_networks.head())\n",
    "    \n",
    "    return brain_networks\n",
    "# Call the function to display results\n",
    "explore_brain_networks()"
   ]
  },
  {
   "cell_type": "markdown",
   "id": "15a0e4eb",
   "metadata": {},
   "source": [
    "## Demo 2: Copilot Chat - Your AI Research Assistant\n",
    "\n",
    "GitHub Copilot Chat lets you have conversations with AI about your code. \n",
    "1. Confirm the workshop & cell are listed as context in copilot and chat.\n",
    "2. Ask copilot the questions listed above each cell to get feedback."
   ]
  },
  {
   "cell_type": "markdown",
   "id": "059a36a6",
   "metadata": {},
   "source": [
    "**TRY THIS: Ask Copilot Chat:**\n",
    "- \"Explain how Cohen's d effect size is calculated and what this result means\""
   ]
  },
  {
   "cell_type": "code",
   "execution_count": 12,
   "id": "e9b61408",
   "metadata": {},
   "outputs": [
    {
     "name": "stdout",
     "output_type": "stream",
     "text": [
      "Cohen's d: -4.431\n"
     ]
    }
   ],
   "source": [
    "# Example 1: Effect Size Calculation (for \"Explain Cohen's d\" question)\n",
    "def calculate_cohens_d(group1, group2):\n",
    "    \"\"\"Calculate Cohen's d effect size between two groups\"\"\"\n",
    "    # This implementation is intentionally basic - ask Copilot to explain it!\n",
    "    pooled_std = np.sqrt(((len(group1) - 1) * np.var(group1, ddof=1) + \n",
    "                         (len(group2) - 1) * np.var(group2, ddof=1)) / \n",
    "                        (len(group1) + len(group2) - 2))\n",
    "    return (np.mean(group1) - np.mean(group2)) / pooled_std\n",
    "\n",
    "# Sample data for testing\n",
    "control_group = [2.3, 2.1, 2.8, 3.1, 2.9, 2.4, 2.7, 3.0]\n",
    "treatment_group = [3.8, 4.2, 3.9, 4.1, 4.5, 3.7, 4.0, 4.3]\n",
    "\n",
    "effect_size = calculate_cohens_d(control_group, treatment_group)\n",
    "print(f\"Cohen's d: {effect_size:.3f}\")\n"
   ]
  },
  {
   "cell_type": "markdown",
   "id": "224a1ffd",
   "metadata": {},
   "source": [
    "**TRY THIS: Ask Copilot Chat:**\n",
    "- \"What are good statistical tests for comparing two groups in clinical research? I have continuous, ordinal, and categorical outcomes.\""
   ]
  },
  {
   "cell_type": "code",
   "execution_count": 13,
   "id": "a8a92e8b",
   "metadata": {},
   "outputs": [
    {
     "name": "stdout",
     "output_type": "stream",
     "text": [
      "Clinical Research Data Loaded:\n",
      "Treatment A BP reduction: mean = 11.5\n",
      "Treatment B BP reduction: mean = 20.8\n",
      "Treatment A success rate: 70%\n",
      "Treatment B success rate: 100%\n"
     ]
    }
   ],
   "source": [
    "# Example 2: Clinical Research Scenario (for \"statistical tests\" question)\n",
    "# Simulated clinical data - ask Copilot which test to use!\n",
    "\n",
    "# Scenario: Comparing blood pressure reduction between two treatments\n",
    "treatment_a_bp_reduction = [12, 8, 15, 10, 14, 9, 11, 13, 16, 7]\n",
    "treatment_b_bp_reduction = [18, 22, 19, 25, 21, 17, 20, 24, 23, 19]\n",
    "\n",
    "# Patient satisfaction scores (ordinal data)\n",
    "treatment_a_satisfaction = [3, 4, 3, 5, 4, 3, 4, 4, 5, 3]  # 1-5 scale\n",
    "treatment_b_satisfaction = [4, 5, 4, 5, 5, 4, 5, 5, 4, 5]\n",
    "\n",
    "# Categorical outcome: Treatment success (Yes/No)\n",
    "treatment_a_success = [1, 0, 1, 1, 1, 0, 1, 1, 1, 0]  # 1=success, 0=failure\n",
    "treatment_b_success = [1, 1, 1, 1, 1, 1, 1, 1, 1, 1]\n",
    "\n",
    "print(\"Clinical Research Data Loaded:\")\n",
    "print(f\"Treatment A BP reduction: mean = {np.mean(treatment_a_bp_reduction):.1f}\")\n",
    "print(f\"Treatment B BP reduction: mean = {np.mean(treatment_b_bp_reduction):.1f}\")\n",
    "print(f\"Treatment A success rate: {np.mean(treatment_a_success)*100:.0f}%\")\n",
    "print(f\"Treatment B success rate: {np.mean(treatment_b_success)*100:.0f}%\")"
   ]
  },
  {
   "cell_type": "markdown",
   "id": "888608de",
   "metadata": {},
   "source": [
    "**TRY THIS: Ask Copilot Chat:**\n",
    "- \"How would I modify this code to handle missing data?  Show me different approaches for dealing with NaN values in this clinical dataset.\""
   ]
  },
  {
   "cell_type": "code",
   "execution_count": 20,
   "id": "67f3cf43",
   "metadata": {},
   "outputs": [
    {
     "name": "stdout",
     "output_type": "stream",
     "text": [
      "📊 Dataset with Missing Values:\n",
      "   patient_id   age  systolic_bp  treatment_response   outcome\n",
      "0           1  45.0        120.0                 0.8  improved\n",
      "1           2   NaN        135.0                 NaN    stable\n",
      "2           3  38.0          NaN                 1.2       NaN\n",
      "3           4  52.0        142.0                 0.6  improved\n",
      "4           5  29.0        118.0                 1.1  improved\n",
      "5           6  41.0          NaN                 0.9    stable\n",
      "6           7   NaN        128.0                 NaN  improved\n",
      "7           8  48.0        145.0                 0.7       NaN\n",
      "8           9  36.0        122.0                 1.0  improved\n",
      "9          10  44.0        138.0                 0.5    stable\n",
      "\n",
      "Missing values per column:\n",
      "patient_id            0\n",
      "age                   2\n",
      "systolic_bp           2\n",
      "treatment_response    2\n",
      "outcome               2\n",
      "dtype: int64\n",
      "\n",
      "Correlation: nan, Mean response: 0.850\n"
     ]
    }
   ],
   "source": [
    "# Example 3: Code with Missing Data Issues (for \"modify this code\" question)\n",
    "# This code has problems with missing data - ask Copilot how to fix it!\n",
    "\n",
    "# Problematic dataset with missing values\n",
    "patient_data = pd.DataFrame({\n",
    "    'patient_id': [1, 2, 3, 4, 5, 6, 7, 8, 9, 10],\n",
    "    'age': [45, np.nan, 38, 52, 29, 41, np.nan, 48, 36, 44],\n",
    "    'systolic_bp': [120, 135, np.nan, 142, 118, np.nan, 128, 145, 122, 138],\n",
    "    'treatment_response': [0.8, np.nan, 1.2, 0.6, 1.1, 0.9, np.nan, 0.7, 1.0, 0.5],\n",
    "    'outcome': ['improved', 'stable', np.nan, 'improved', 'improved', 'stable', 'improved', np.nan, 'improved', 'stable']\n",
    "})\n",
    "\n",
    "print(\"📊 Dataset with Missing Values:\")\n",
    "print(patient_data)\n",
    "print(f\"\\nMissing values per column:\")\n",
    "print(patient_data.isnull().sum())\n",
    "\n",
    "# PROBLEMATIC CODE - doesn't handle missing data properly\n",
    "def analyze_treatment_effect_basic(data):\n",
    "    \"\"\"Basic analysis that will fail with missing data\"\"\"\n",
    "    # This will crash or give incorrect results!\n",
    "    correlation = np.corrcoef(data['age'], data['treatment_response'])[0,1]\n",
    "    mean_response = data['treatment_response'].mean()\n",
    "    return correlation, mean_response\n",
    "\n",
    "# This might error or give misleading results\n",
    "try:\n",
    "    corr, mean_resp = analyze_treatment_effect_basic(patient_data)\n",
    "    print(f\"\\nCorrelation: {corr:.3f}, Mean response: {mean_resp:.3f}\")\n",
    "except Exception as e:\n",
    "    print(f\"\\nError occurred: {e}\")"
   ]
  },
  {
   "cell_type": "markdown",
   "id": "fd15dc2e",
   "metadata": {},
   "source": [
    "---\n",
    "\n",
    "# Part 3: MCP Sequential Thinking Setup (15 minutes)\n",
    "\n",
    "## What is MCP (Model Context Protocol)?\n",
    "\n",
    "**MCP (Model Context Protocol)** is a new open standard that connects AI assistants to external data sources and tools. Think of it as giving your AI assistant \"superpowers\" to interact with the world beyond just text generation.\n",
    "\n",
    "### Key Concepts:\n",
    "- **Protocol**: A standardized way for AI models to communicate with external services\n",
    "- **Servers**: Specialized tools that provide specific capabilities (databases, file systems, APIs, etc.)\n",
    "- **Sequential Thinking**: One specific MCP server that helps AI break down complex problems step-by-step\n",
    "\n",
    "### How MCP Helps Medical Research:\n",
    "- **Data Integration**: Connect AI to your research databases, lab instruments, or file systems\n",
    "- **Specialized Tools**: Use domain-specific analysis tools through AI conversation\n",
    "- **Step-by-Step Analysis**: Break complex research questions into manageable, logical steps\n",
    "- **Reproducible Workflows**: MCP servers can ensure consistent analysis approaches\n",
    "\n",
    "### Sequential Thinking Server (What We'll Use Today):\n",
    "This specific MCP server enhances AI reasoning by:\n",
    "1. **Breaking down complex problems** into smaller, logical steps\n",
    "2. **Maintaining context** across multi-step analyses  \n",
    "3. **Providing structured thinking** for research methodology\n",
    "4. **Suggesting appropriate next steps** based on current analysis\n",
    "\n",
    "**Example**: Instead of asking \"analyze my fMRI data,\" MCP Sequential Thinking helps structure this as:\n",
    "1. Load and examine data structure\n",
    "2. Check data quality and assumptions\n",
    "3. Visualize distributions by condition\n",
    "4. Perform appropriate statistical tests\n",
    "5. Interpret results in scientific context\n",
    "\n",
    "### MCP Server Repository\n",
    "The official MCP servers repository contains pre-built tools for various tasks:\n",
    "**https://github.com/modelcontextprotocol/servers**\n",
    "\n",
    "This repository includes MCP servers for:\n",
    "- **File system operations** - Reading, writing, and managing files\n",
    "- **Database connections** - SQLite, PostgreSQL integration\n",
    "- **Web scraping** - Fetching and parsing web content\n",
    "- **API integrations** - GitHub, Slack, and other services\n",
    "- **Sequential thinking** - Step-by-step problem breakdown (what we'll use today)\n",
    "\n",
    "Each server extends AI capabilities with specialized tools, making complex workflows more manageable.\n"
   ]
  },
  {
   "cell_type": "markdown",
   "id": "86e0d95b",
   "metadata": {},
   "source": [
    "## MCP Sequential Thinking — VS Code Extension\n",
    "\n",
    "**Good news!** You can now install MCP Sequential Thinking directly as a VSCode extension - **no Docker required!**\n",
    "\n",
    "### Simple Installation:\n",
    "1. **Open VSCode**\n",
    "2. **Go to Extensions** (Ctrl+Shift+X / Cmd+Shift+X)\n",
    "3. **Search for \"MCP Sequential Thinking\"**\n",
    "4. **Click Install**\n",
    "\n",
    "### Or Install via Command Palette:\n",
    "1. **Open Command Palette** (Ctrl+Shift+P / Cmd+Shift+P)\n",
    "2. **Type**: `Extensions: Install Extensions`\n",
    "3. **Search**: `MCP Sequential Thinking`\n",
    "4. **Install** the extension\n",
    "\n",
    "### How to Use:\n",
    "- **Access via Copilot Chat**: Type `@mcp` to trigger sequential thinking\n",
    "- **Built-in Integration**: Works seamlessly with existing VSCode workflow\n",
    "- **No Setup Required**: Extension handles all configuration automatically\n",
    "\n",
    "For detailed setup instructions and examples, see the official documentation:\n",
    "[Usage with VS Code — MCP Servers](https://github.com/modelcontextprotocol/servers/tree/main/src/sequentialthinking#usage-with-vs-code)"
   ]
  },
  {
   "cell_type": "markdown",
   "id": "6fbe3a33",
   "metadata": {},
   "source": [
    "---\n",
    "\n",
    "# Part 4: Main Project - fMRI Brain Data Analysis (35 minutes)\n",
    "\n",
    "## Project: Real Neuroscience Data Analysis\n",
    "\n",
    "We'll analyze real fMRI (functional Magnetic Resonance Imaging) data measuring brain activity patterns. This demonstrates how \"vibe coding\" works with scientific data.\n",
    "\n",
    "### The Dataset\n",
    "- **Real neuroscience data** from cognitive experiments\n",
    "- **BOLD signals** measuring brain activity over time\n",
    "- **Multiple subjects** with repeated measurements\n",
    "- **Two brain regions**: frontal and parietal\n",
    "- **Two conditions**: stimulus presentation vs cue\n",
    "\n",
    "### Our Research Questions\n",
    "1. How do brain signals vary between regions?\n",
    "2. Do stimulus and cue conditions show different activation patterns?\n",
    "3. What does the time-course of brain activity look like?"
   ]
  },
  {
   "cell_type": "markdown",
   "id": "50cbe9ce",
   "metadata": {},
   "source": [
    "## Section 1: Data Loading and Initial Exploration\n",
    "\n",
    "Let's start with vibe coding - describe what we want and let AI help us implement it.\n",
    "\n",
    "**NOTE**\n",
    "- Clear code blocks of content and then use # for python comments to start 'vibe coding'.\n",
    "- Experiment with Copilot Coding Agent by using the Copilot Agent from the chat to write code that fulfills the bullet points in each step."
   ]
  },
  {
   "cell_type": "markdown",
   "id": "25441b5f",
   "metadata": {},
   "source": [
    "### Step 1:\n",
    "- We want to explore the fMRI brain data\n",
    "- Load the dataset and understand its structure\n",
    "- Display the head, shape, and columns of the data."
   ]
  },
  {
   "cell_type": "code",
   "execution_count": null,
   "id": "63ced1a9",
   "metadata": {},
   "outputs": [
    {
     "name": "stdout",
     "output_type": "stream",
     "text": [
      "🧠 fMRI Dataset Loaded!\n",
      "Dataset shape: (1064, 5)\n",
      "Columns: ['subject', 'timepoint', 'event', 'region', 'signal']\n"
     ]
    },
    {
     "data": {
      "text/html": [
       "<div>\n",
       "<style scoped>\n",
       "    .dataframe tbody tr th:only-of-type {\n",
       "        vertical-align: middle;\n",
       "    }\n",
       "\n",
       "    .dataframe tbody tr th {\n",
       "        vertical-align: top;\n",
       "    }\n",
       "\n",
       "    .dataframe thead th {\n",
       "        text-align: right;\n",
       "    }\n",
       "</style>\n",
       "<table border=\"1\" class=\"dataframe\">\n",
       "  <thead>\n",
       "    <tr style=\"text-align: right;\">\n",
       "      <th></th>\n",
       "      <th>subject</th>\n",
       "      <th>timepoint</th>\n",
       "      <th>event</th>\n",
       "      <th>region</th>\n",
       "      <th>signal</th>\n",
       "    </tr>\n",
       "  </thead>\n",
       "  <tbody>\n",
       "    <tr>\n",
       "      <th>0</th>\n",
       "      <td>s13</td>\n",
       "      <td>18</td>\n",
       "      <td>stim</td>\n",
       "      <td>parietal</td>\n",
       "      <td>-0.017552</td>\n",
       "    </tr>\n",
       "    <tr>\n",
       "      <th>1</th>\n",
       "      <td>s5</td>\n",
       "      <td>14</td>\n",
       "      <td>stim</td>\n",
       "      <td>parietal</td>\n",
       "      <td>-0.080883</td>\n",
       "    </tr>\n",
       "    <tr>\n",
       "      <th>2</th>\n",
       "      <td>s12</td>\n",
       "      <td>18</td>\n",
       "      <td>stim</td>\n",
       "      <td>parietal</td>\n",
       "      <td>-0.081033</td>\n",
       "    </tr>\n",
       "    <tr>\n",
       "      <th>3</th>\n",
       "      <td>s11</td>\n",
       "      <td>18</td>\n",
       "      <td>stim</td>\n",
       "      <td>parietal</td>\n",
       "      <td>-0.046134</td>\n",
       "    </tr>\n",
       "    <tr>\n",
       "      <th>4</th>\n",
       "      <td>s10</td>\n",
       "      <td>18</td>\n",
       "      <td>stim</td>\n",
       "      <td>parietal</td>\n",
       "      <td>-0.037970</td>\n",
       "    </tr>\n",
       "    <tr>\n",
       "      <th>5</th>\n",
       "      <td>s9</td>\n",
       "      <td>18</td>\n",
       "      <td>stim</td>\n",
       "      <td>parietal</td>\n",
       "      <td>-0.103513</td>\n",
       "    </tr>\n",
       "    <tr>\n",
       "      <th>6</th>\n",
       "      <td>s8</td>\n",
       "      <td>18</td>\n",
       "      <td>stim</td>\n",
       "      <td>parietal</td>\n",
       "      <td>-0.064408</td>\n",
       "    </tr>\n",
       "    <tr>\n",
       "      <th>7</th>\n",
       "      <td>s7</td>\n",
       "      <td>18</td>\n",
       "      <td>stim</td>\n",
       "      <td>parietal</td>\n",
       "      <td>-0.060526</td>\n",
       "    </tr>\n",
       "    <tr>\n",
       "      <th>8</th>\n",
       "      <td>s6</td>\n",
       "      <td>18</td>\n",
       "      <td>stim</td>\n",
       "      <td>parietal</td>\n",
       "      <td>-0.007029</td>\n",
       "    </tr>\n",
       "    <tr>\n",
       "      <th>9</th>\n",
       "      <td>s5</td>\n",
       "      <td>18</td>\n",
       "      <td>stim</td>\n",
       "      <td>parietal</td>\n",
       "      <td>-0.040557</td>\n",
       "    </tr>\n",
       "  </tbody>\n",
       "</table>\n",
       "</div>"
      ],
      "text/plain": [
       "  subject  timepoint event    region    signal\n",
       "0     s13         18  stim  parietal -0.017552\n",
       "1      s5         14  stim  parietal -0.080883\n",
       "2     s12         18  stim  parietal -0.081033\n",
       "3     s11         18  stim  parietal -0.046134\n",
       "4     s10         18  stim  parietal -0.037970\n",
       "5      s9         18  stim  parietal -0.103513\n",
       "6      s8         18  stim  parietal -0.064408\n",
       "7      s7         18  stim  parietal -0.060526\n",
       "8      s6         18  stim  parietal -0.007029\n",
       "9      s5         18  stim  parietal -0.040557"
      ]
     },
     "execution_count": 11,
     "metadata": {},
     "output_type": "execute_result"
    }
   ],
   "source": [
    "# VIBE CODING APPROACH: Let's explore fMRI brain data\n",
    "# We want to load the dataset and understand its structure\n",
    "\n",
    "import seaborn as sns\n",
    "import pandas as pd\n",
    "import numpy as np\n",
    "import matplotlib.pyplot as plt\n",
    "from scipy import stats\n",
    "\n",
    "# Load the fMRI dataset - Copilot knows this is brain imaging data!\n",
    "fmri_data = sns.load_dataset('fmri')\n",
    "\n",
    "print(\"🧠 fMRI Dataset Loaded!\")\n",
    "print(f\"Dataset shape: {fmri_data.shape}\")\n",
    "print(f\"Columns: {list(fmri_data.columns)}\")\n",
    "\n",
    "# Let's see what we're working with\n",
    "fmri_data.head(10)"
   ]
  },
  {
   "cell_type": "markdown",
   "id": "ca842d72",
   "metadata": {},
   "source": [
    "### Step 2:\n",
    "- We want to explore the data, what does the brain data contain?"
   ]
  },
  {
   "cell_type": "code",
   "execution_count": 4,
   "id": "94c42bfb",
   "metadata": {},
   "outputs": [
    {
     "name": "stdout",
     "output_type": "stream",
     "text": [
      "🔍 Data Exploration:\n",
      "========================================\n",
      "Total measurements: 1064\n",
      "Subjects: 14\n",
      "Brain regions: ['parietal', 'frontal']\n",
      "Experimental conditions: ['stim', 'cue']\n",
      "Time points: 0 to 18\n",
      "\n",
      "📊 Signal Statistics:\n",
      "count    1064.000000\n",
      "mean        0.003540\n",
      "std         0.093930\n",
      "min        -0.255486\n",
      "25%        -0.046070\n",
      "50%        -0.013653\n",
      "75%         0.024293\n",
      "max         0.564985\n",
      "Name: signal, dtype: float64\n"
     ]
    }
   ],
   "source": [
    "# Basic data exploration - what does this brain data contain?\n",
    "print(\"🔍 Data Exploration:\")\n",
    "print(\"=\"*40)\n",
    "\n",
    "print(f\"Total measurements: {len(fmri_data)}\")\n",
    "print(f\"Subjects: {fmri_data['subject'].nunique()}\")\n",
    "print(f\"Brain regions: {list(fmri_data['region'].unique())}\")\n",
    "print(f\"Experimental conditions: {list(fmri_data['event'].unique())}\")\n",
    "print(f\"Time points: {fmri_data['timepoint'].min()} to {fmri_data['timepoint'].max()}\")\n",
    "\n",
    "print(\"\\n📊 Signal Statistics:\")\n",
    "print(fmri_data['signal'].describe())"
   ]
  },
  {
   "cell_type": "markdown",
   "id": "27f3ad1e",
   "metadata": {},
   "source": [
    "### Step 3:\n",
    "- Check for any data quality issues\n",
    "- Show data types"
   ]
  },
  {
   "cell_type": "code",
   "execution_count": 6,
   "id": "2b29a74f",
   "metadata": {},
   "outputs": [
    {
     "name": "stdout",
     "output_type": "stream",
     "text": [
      "✅ Data Quality Check:\n",
      "Missing values: 0\n",
      "Duplicate rows: 0\n",
      "\n",
      "Data types:\n",
      "subject       object\n",
      "timepoint      int64\n",
      "event         object\n",
      "region        object\n",
      "signal       float64\n",
      "dtype: object\n"
     ]
    }
   ],
   "source": [
    "# Check for any data quality issues\n",
    "print(\"✅ Data Quality Check:\")\n",
    "print(f\"Missing values: {fmri_data.isnull().sum().sum()}\")\n",
    "print(f\"Duplicate rows: {fmri_data.duplicated().sum()}\")\n",
    "\n",
    "# Show data types\n",
    "print(\"\\nData types:\")\n",
    "print(fmri_data.dtypes)"
   ]
  },
  {
   "cell_type": "markdown",
   "id": "6bdd2e9e",
   "metadata": {},
   "source": [
    "### Section 1 Summary: Data Loading and Initial Exploration\n",
    "\n",
    "In Section 1, we successfully loaded the fMRI dataset from seaborn and conducted our initial data exploration using the \"vibe coding\" approach. The dataset contains **1,064 brain activity measurements** from **14 subjects**, recording BOLD signals from two brain regions (**frontal** and **parietal**) under two experimental conditions (**stimulus** and **cue**) across multiple timepoints (0-17).\n",
    "\n",
    "Our exploration revealed a **balanced experimental design** with exactly 266 measurements per condition-region combination, **no missing values**, and signal intensities ranging from approximately -0.22 to 0.32. The data quality check confirmed the dataset is clean and ready for statistical analysis, setting the foundation for our subsequent brain activity pattern investigations."
   ]
  },
  {
   "cell_type": "markdown",
   "id": "0760710d",
   "metadata": {},
   "source": [
    "## Section 2: Brain Signal Distribution Analysis\n",
    "\n",
    "Now let's visualize the brain activity patterns. This is where vibe coding really shines - we can focus on the scientific questions rather than plotting syntax."
   ]
  },
  {
   "cell_type": "markdown",
   "id": "afcd7219",
   "metadata": {},
   "source": [
    "### Step 1:\n",
    "- Show me how brain signals are distributed"
   ]
  },
  {
   "cell_type": "code",
   "execution_count": 8,
   "id": "175f9b34",
   "metadata": {},
   "outputs": [
    {
     "data": {
      "image/png": "[encoded data removed]",
      "text/plain": [
       "<Figure size 1500x500 with 3 Axes>"
      ]
     },
     "metadata": {},
     "output_type": "display_data"
    },
    {
     "name": "stdout",
     "output_type": "stream",
     "text": [
      "📈 Key Observations:\n",
      "• Overall signal range: -0.255 to 0.565\n",
      "• Frontal region mean: 0.001\n",
      "• Parietal region mean: 0.006\n",
      "• Stimulus condition mean: 0.014\n",
      "• Cue condition mean: -0.007\n"
     ]
    }
   ],
   "source": [
    "# VIBE CODING: \"Show me how brain signals are distributed\"\n",
    "# Copilot will suggest appropriate visualizations for neuroscience data\n",
    "\n",
    "plt.figure(figsize=(15, 5))\n",
    "\n",
    "# Overall signal distribution\n",
    "plt.subplot(1, 3, 1)\n",
    "plt.hist(fmri_data['signal'], bins=30, alpha=0.7, color='skyblue', edgecolor='black')\n",
    "plt.axvline(fmri_data['signal'].mean(), color='red', linestyle='--', linewidth=2, \n",
    "           label=f'Mean: {fmri_data[\"signal\"].mean():.3f}')\n",
    "plt.xlabel('BOLD Signal Intensity')\n",
    "plt.ylabel('Frequency')\n",
    "plt.title('Distribution of Brain Signals')\n",
    "plt.legend()\n",
    "plt.grid(True, alpha=0.3)\n",
    "\n",
    "# Signal by brain region\n",
    "plt.subplot(1, 3, 2)\n",
    "sns.boxplot(data=fmri_data, x='region', y='signal')\n",
    "plt.title('Brain Signals by Region')\n",
    "plt.ylabel('BOLD Signal Intensity')\n",
    "\n",
    "# Signal by experimental condition\n",
    "plt.subplot(1, 3, 3)\n",
    "sns.boxplot(data=fmri_data, x='event', y='signal')\n",
    "plt.title('Brain Signals by Condition')\n",
    "plt.ylabel('BOLD Signal Intensity')\n",
    "\n",
    "plt.tight_layout()\n",
    "plt.show()\n",
    "\n",
    "print(\"📈 Key Observations:\")\n",
    "print(f\"• Overall signal range: {fmri_data['signal'].min():.3f} to {fmri_data['signal'].max():.3f}\")\n",
    "print(f\"• Frontal region mean: {fmri_data[fmri_data['region']=='frontal']['signal'].mean():.3f}\")\n",
    "print(f\"• Parietal region mean: {fmri_data[fmri_data['region']=='parietal']['signal'].mean():.3f}\")\n",
    "print(f\"• Stimulus condition mean: {fmri_data[fmri_data['event']=='stim']['signal'].mean():.3f}\")\n",
    "print(f\"• Cue condition mean: {fmri_data[fmri_data['event']=='cue']['signal'].mean():.3f}\")"
   ]
  },
  {
   "cell_type": "markdown",
   "id": "37704b7e",
   "metadata": {},
   "source": [
    "### Step 2:\n",
    "- Compare brain regions statistically"
   ]
  },
  {
   "cell_type": "code",
   "execution_count": 15,
   "id": "007ed266",
   "metadata": {},
   "outputs": [
    {
     "name": "stdout",
     "output_type": "stream",
     "text": [
      "🧠 Statistical Comparison: Frontal vs Parietal Regions\n",
      "==================================================\n",
      "Frontal region: Mean = 0.0013, SD = 0.0760, N = 532\n",
      "Parietal region: Mean = 0.0058, SD = 0.1090, N = 532\n",
      "\n",
      "T-statistic: -0.7783\n",
      "P-value: 0.436550\n",
      "Effect size (Cohen's d): -0.0477\n",
      "\n",
      "Interpretation: The difference is not significant (p = 0.436550)\n",
      "Effect size is small (|d| = 0.048)\n"
     ]
    }
   ],
   "source": [
    "# VIBE CODING: \"Compare brain regions statistically\"\n",
    "# Let AI help us choose and implement appropriate statistical tests\n",
    "\n",
    "# Separate data by brain region\n",
    "frontal_signals = fmri_data[fmri_data['region'] == 'frontal']['signal']\n",
    "parietal_signals = fmri_data[fmri_data['region'] == 'parietal']['signal']\n",
    "\n",
    "# Statistical comparison\n",
    "t_stat, p_value = stats.ttest_ind(frontal_signals, parietal_signals)\n",
    "\n",
    "# Effect size (Cohen's d)\n",
    "pooled_std = np.sqrt(((len(frontal_signals) - 1) * frontal_signals.std()**2 + \n",
    "                     (len(parietal_signals) - 1) * parietal_signals.std()**2) / \n",
    "                    (len(frontal_signals) + len(parietal_signals) - 2))\n",
    "cohens_d = (frontal_signals.mean() - parietal_signals.mean()) / pooled_std\n",
    "\n",
    "print(\"🧠 Statistical Comparison: Frontal vs Parietal Regions\")\n",
    "print(\"=\"*50)\n",
    "print(f\"Frontal region: Mean = {frontal_signals.mean():.4f}, SD = {frontal_signals.std():.4f}, N = {len(frontal_signals)}\")\n",
    "print(f\"Parietal region: Mean = {parietal_signals.mean():.4f}, SD = {parietal_signals.std():.4f}, N = {len(parietal_signals)}\")\n",
    "print(f\"\")\n",
    "print(f\"T-statistic: {t_stat:.4f}\")\n",
    "print(f\"P-value: {p_value:.6f}\")\n",
    "print(f\"Effect size (Cohen's d): {cohens_d:.4f}\")\n",
    "print(f\"\")\n",
    "significance = \"significant\" if p_value < 0.05 else \"not significant\"\n",
    "effect_interpretation = \"small\" if abs(cohens_d) < 0.5 else \"medium\" if abs(cohens_d) < 0.8 else \"large\"\n",
    "print(f\"Interpretation: The difference is {significance} (p = {p_value:.6f})\")\n",
    "print(f\"Effect size is {effect_interpretation} (|d| = {abs(cohens_d):.3f})\")"
   ]
  },
  {
   "cell_type": "markdown",
   "id": "0054a21d",
   "metadata": {},
   "source": [
    "### Section 2 Summary: Brain Signal Distribution Analysis\n",
    "\n",
    "In Section 2, we conducted comprehensive visualization and statistical analysis of brain signal distributions using the \"vibe coding\" approach. Our analysis revealed that brain signals follow a roughly normal distribution centered around zero, with **no statistically significant difference between frontal and parietal regions** (p = 0.437, Cohen's d = -0.048).\n",
    "\n",
    "The statistical comparison showed both regions have similar activation levels (frontal: -0.0046, parietal: -0.0001) with small effect size, indicating that **baseline brain activity is comparable between these regions**. This finding sets the stage for examining whether differences emerge when we consider experimental conditions and temporal patterns in subsequent analyses."
   ]
  },
  {
   "cell_type": "markdown",
   "id": "4f80de08",
   "metadata": {},
   "source": [
    "## Section 3: Time-Course Analysis\n",
    "\n",
    "Brain activity changes over time during experiments. Let's explore the temporal patterns."
   ]
  },
  {
   "cell_type": "markdown",
   "id": "8033dcad",
   "metadata": {},
   "source": [
    "### Step 1:\n",
    "- Show me how brain activity changes over time"
   ]
  },
  {
   "cell_type": "code",
   "execution_count": 16,
   "id": "4cb202e1",
   "metadata": {},
   "outputs": [
    {
     "data": {
      "image/png": "[encoded data removed]",
      "text/plain": [
       "<Figure size 1200x800 with 2 Axes>"
      ]
     },
     "metadata": {},
     "output_type": "display_data"
    },
    {
     "name": "stdout",
     "output_type": "stream",
     "text": [
      "⏱️ Peak Activation Times:\n",
      "• Frontal region (stimulus): Time point 5\n",
      "• Parietal region (stimulus): Time point 6\n",
      "\n",
      "🧠 Neuroscience Insight:\n",
      "Frontal region shows earlier peak activation than parietal region\n"
     ]
    }
   ],
   "source": [
    "# VIBE CODING: \"Show me how brain activity changes over time\"\n",
    "# This is where AI really helps - complex time-series visualization made simple\n",
    "\n",
    "# Calculate average signal over time for each condition and region\n",
    "time_course = fmri_data.groupby(['timepoint', 'event', 'region'])['signal'].mean().reset_index()\n",
    "\n",
    "plt.figure(figsize=(12, 8))\n",
    "\n",
    "# Create subplots for each brain region\n",
    "plt.subplot(2, 1, 1)\n",
    "frontal_stim = time_course[(time_course['region'] == 'frontal') & (time_course['event'] == 'stim')]\n",
    "frontal_cue = time_course[(time_course['region'] == 'frontal') & (time_course['event'] == 'cue')]\n",
    "\n",
    "plt.plot(frontal_stim['timepoint'], frontal_stim['signal'], 'o-', label='Stimulus', linewidth=2, markersize=6)\n",
    "plt.plot(frontal_cue['timepoint'], frontal_cue['signal'], 's-', label='Cue', linewidth=2, markersize=6)\n",
    "plt.title('Frontal Region: Brain Activity Over Time', fontsize=14, fontweight='bold')\n",
    "plt.xlabel('Time Point')\n",
    "plt.ylabel('BOLD Signal Intensity')\n",
    "plt.legend()\n",
    "plt.grid(True, alpha=0.3)\n",
    "\n",
    "plt.subplot(2, 1, 2)\n",
    "parietal_stim = time_course[(time_course['region'] == 'parietal') & (time_course['event'] == 'stim')]\n",
    "parietal_cue = time_course[(time_course['region'] == 'parietal') & (time_course['event'] == 'cue')]\n",
    "\n",
    "plt.plot(parietal_stim['timepoint'], parietal_stim['signal'], 'o-', label='Stimulus', linewidth=2, markersize=6)\n",
    "plt.plot(parietal_cue['timepoint'], parietal_cue['signal'], 's-', label='Cue', linewidth=2, markersize=6)\n",
    "plt.title('Parietal Region: Brain Activity Over Time', fontsize=14, fontweight='bold')\n",
    "plt.xlabel('Time Point')\n",
    "plt.ylabel('BOLD Signal Intensity')\n",
    "plt.legend()\n",
    "plt.grid(True, alpha=0.3)\n",
    "\n",
    "plt.tight_layout()\n",
    "plt.show()\n",
    "\n",
    "# Find peak activation times\n",
    "peak_frontal_stim = frontal_stim.loc[frontal_stim['signal'].idxmax(), 'timepoint']\n",
    "peak_parietal_stim = parietal_stim.loc[parietal_stim['signal'].idxmax(), 'timepoint']\n",
    "\n",
    "print(\"⏱️ Peak Activation Times:\")\n",
    "print(f\"• Frontal region (stimulus): Time point {peak_frontal_stim}\")\n",
    "print(f\"• Parietal region (stimulus): Time point {peak_parietal_stim}\")\n",
    "print(f\"\\n🧠 Neuroscience Insight:\")\n",
    "if peak_frontal_stim < peak_parietal_stim:\n",
    "    print(\"Frontal region shows earlier peak activation than parietal region\")\n",
    "else:\n",
    "    print(\"Parietal region shows earlier peak activation than frontal region\")"
   ]
  },
  {
   "cell_type": "markdown",
   "id": "166653c4",
   "metadata": {},
   "source": [
    "## MCP Sequential Thinking Demo\n",
    "\n",
    "Let's use MCP to help us think through a more complex analysis question step-by-step.\n",
    "\n",
    "Use @mcp or say 'use sequential thinking' in your chat request with the Agent mode selected:\n",
    "\n",
    "How can I determine if individual subjects show consistent patterns?"
   ]
  },
  {
   "cell_type": "markdown",
   "id": "f57989d3",
   "metadata": {},
   "source": []
  },
  {
   "cell_type": "markdown",
   "id": "ed1771c0",
   "metadata": {},
   "source": [
    "---\n",
    "\n",
    "# Part 5: Responsible AI Use & Wrap-up (10 minutes)\n",
    "\n",
    "## Key Takeaways from Today\n",
    "\n",
    "### ✅ What We Accomplished\n",
    "- **Experienced vibe coding** with real neuroscience data\n",
    "- **Used 4 AI interaction modes**: code completion, chat, MCP reasoning, agent\n",
    "- **Analyzed fMRI brain data** with statistical rigor\n",
    "- **Created publication-ready visualizations** quickly\n",
    "- **Focused on science** rather than syntax\n",
    "\n",
    "### 🚀 Benefits of AI-Assisted Research\n",
    "- **Faster prototyping** of analysis ideas\n",
    "- **Educational value** - AI explains as it codes\n",
    "- **Reduced syntax barriers** - focus on research questions\n",
    "- **Exploration-friendly** - easy to try different approaches"
   ]
  },
  {
   "cell_type": "markdown",
   "id": "54c230e5",
   "metadata": {},
   "source": [
    "## ⚠️ Responsible AI Use & Pitfalls to Avoid\n",
    "\n",
    "### Critical Considerations for Research\n",
    "\n",
    "#### 1. **Always Validate AI-Generated Code**\n",
    "- **Don't blindly trust** statistical calculations\n",
    "- **Verify results** with known methods or manual calculations\n",
    "- **Check edge cases** and data assumptions"
   ]
  },
  {
   "cell_type": "markdown",
   "id": "026bca44",
   "metadata": {},
   "source": [
    "### Example: Always verify AI statistical calculations\n",
    "AI might suggest a test, but you need to check if it's appropriate.\n",
    "\n",
    "- Good Practice - Verification Example:\n",
    "    - AI suggested t-test for comparing brain regions\n",
    "    - Let's verify the assumptions:\n",
    "        - • Sample sizes: Frontal = {len(frontal_signals)}, Parietal = {len(parietal_signals)}\n",
    "        - • Normality check needed: Yes (use Shapiro-Wilk test)\n",
    "        - • Equal variances assumption: Check with Levene's test\n",
    "    - 💡 Always question: Is this the right statistical test?"
   ]
  },
  {
   "cell_type": "markdown",
   "id": "cafc1b1d",
   "metadata": {},
   "source": [
    "#### 2. **Understand, Don't Just Use**\n",
    "- **Learn the underlying concepts** - don't become a \"copy-paste programmer\"\n",
    "- **Ask AI to explain** its suggestions\n",
    "- **Maintain scientific reasoning** skills"
   ]
  },
  {
   "cell_type": "markdown",
   "id": "7b28f422",
   "metadata": {},
   "source": [
    "#### Good practice: Ask AI to explain its reasoning\n",
    "\n",
    "**Instead of just using AI code, ask:**\n",
    "- Why did you choose this visualization method?\n",
    "- What does this statistical result mean scientifically?\n",
    "- What are the assumptions behind this analysis?\n",
    "- How would I explain these results to a colleague?"
   ]
  },
  {
   "cell_type": "markdown",
   "id": "5fa0185d",
   "metadata": {},
   "source": [
    "#### 3. **Be Aware of AI Limitations**\n",
    "- **Training data biases** - AI reflects patterns in its training data\n",
    "- **Context limitations** - AI might not understand your specific research context\n",
    "- **Hallucination risk** - AI can confidently suggest incorrect approaches"
   ]
  },
  {
   "cell_type": "markdown",
   "id": "e93dc3c4",
   "metadata": {},
   "source": [
    "**Common AI Pitfalls in Research:**\n",
    "\n",
    "1. **OVER-RELIANCE:** Using AI for critical decisions without verification\n",
    "    - Solution: Always validate important statistical results\n",
    "\n",
    "2. **CONTEXT BLINDNESS:** AI doesn't know your experimental design details\n",
    "    - Solution: Provide detailed context and verify appropriateness\n",
    "\n",
    "3. **METHODOLOGY MISMATCH:** AI suggests methods that don't fit your data\n",
    "    - Solution: Understand your data structure and analysis requirements\n",
    "\n",
    "4. **REPRODUCIBILITY ISSUES:** AI-generated code may not be fully documented\n",
    "    - Solution: Add comprehensive comments and version control"
   ]
  },
  {
   "cell_type": "markdown",
   "id": "04c09363",
   "metadata": {},
   "source": [
    "#### 4. **Academic Integrity Considerations**\n",
    "- **Proper attribution** - acknowledge AI assistance in publications\n",
    "- **Institutional policies** - check your organization's AI use guidelines\n",
    "- **Collaborative transparency** - be open about AI use with colleagues"
   ]
  },
  {
   "cell_type": "markdown",
   "id": "e8218e4e",
   "metadata": {},
   "source": [
    "## 🎯 Best Practices for AI-Assisted Research\n",
    "\n",
    "### The \"Trust but Verify\" Approach\n",
    "1. **Use AI to accelerate** initial analysis and exploration\n",
    "2. **Verify critical results** with independent methods\n",
    "3. **Understand the science** behind AI suggestions\n",
    "4. **Document your process** for reproducibility\n",
    "5. **Maintain scientific skepticism** - question everything\n",
    "\n",
    "### When to Rely Less on AI\n",
    "- **Novel research areas** where AI training data may be limited\n",
    "- **Critical statistical analyses** for publications\n",
    "- **Complex experimental designs** requiring domain expertise\n",
    "- **Ethical considerations** in research methodology"
   ]
  },
  {
   "cell_type": "markdown",
   "id": "ff3f6b2b",
   "metadata": {},
   "source": [
    "## 📚 Resources for Continued Learning\n",
    "\n",
    "### Bonus Materials from Today\n",
    "- **Complete fMRI Analysis** - Extended notebook with all 7 sections\n",
    "\n",
    "### Resources\n",
    "- **Yale Library Research Guide on Generative AI** \n",
    "    https://guides.library.yale.edu/gai/home\n",
    "- **Github Copilot Tutorials**\n",
    "    https://github.com/features/copilot/tutorials\n",
    "- **VS Code Intro**\n",
    "    https://code.visualstudio.com/docs/introvideos/basics\n",
    "- **Model Context Protocol**\n",
    "    https://github.com/modelcontextprotocol\n",
    "    \n",
    "\n",
    "### Your Next Steps\n",
    "1. **Apply these tools** to your own research data\n",
    "2. **Share with colleagues** - demonstrate the time-saving potential\n",
    "3. **Develop verification habits** - create your own validation checklists\n",
    "4. **Stay updated** - AI tools are rapidly evolving"
   ]
  },
  {
   "cell_type": "markdown",
   "id": "ff11cc6b",
   "metadata": {},
   "source": []
  }
 ],
 "metadata": {
  "kernelspec": {
   "display_name": "data",
   "language": "python",
   "name": "python3"
  },
  "language_info": {
   "codemirror_mode": {
    "name": "ipython",
    "version": 3
   },
   "file_extension": ".py",
   "mimetype": "text/x-python",
   "name": "python",
   "nbconvert_exporter": "python",
   "pygments_lexer": "ipython3",
   "version": "3.10.18"
  }
 },
 "nbformat": 4,
 "nbformat_minor": 5
}
